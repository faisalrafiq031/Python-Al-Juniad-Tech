{
 "cells": [
  {
   "cell_type": "code",
   "execution_count": 33,
   "metadata": {},
   "outputs": [
    {
     "data": {
      "text/plain": [
       "{'9780439136365': ('The Hobbit',\n",
       "  'J.R.R. Tolkien',\n",
       "  25.99,\n",
       "  {'adventure', 'fantasy'}),\n",
       " '9780307277671': ('To Kill a Mockingbird',\n",
       "  'Harper Lee',\n",
       "  18.99,\n",
       "  {'history', 'non-fiction'}),\n",
       " '9780140449136': ('The Republic', 'Plato', 10.99, {'philosophy', 'politics'}),\n",
       " '9780743273565': ('The Great Gatsby',\n",
       "  'F. Scott Fitzgerald',\n",
       "  15.5,\n",
       "  {'classic', 'fiction'}),\n",
       " '9780262033848': ('Time to love',\n",
       "  'Taufiq Rafat',\n",
       "  60.99,\n",
       "  {'Computer Science', 'Science Fiction'})}"
      ]
     },
     "execution_count": 33,
     "metadata": {},
     "output_type": "execute_result"
    }
   ],
   "source": [
    "# Intership Task 2 - Data Structure - Al-Junaid Tech\n",
    "\n",
    "\"\"\"\n",
    "TASK 1 - PART 1: CREATE INVENTORY DICTIONARY\n",
    "\n",
    "1. Create an empty dictionary.\n",
    "2. Each book's ISBN (string) will be a key.\n",
    "3. Each value will be a tuple containing:\n",
    "   - Title (String)\n",
    "   - Author (String)\n",
    "   - Price (Number)\n",
    "   - Genres (Set of Strings)\n",
    "4. Genres a set of string (e.g., {\"fiction\", \"adventure\"}).\n",
    "\n",
    "\"\"\"\n",
    "\n",
    "# Step 1: Create an empty dictionary\n",
    "inventory = {}\n",
    "\n",
    "# Step 2: Add books with ISBN as keys and details as tuples\n",
    "inventory[\"9780439136365\"] = (\"The Hobbit\", \"J.R.R. Tolkien\", 25.99, {\"fantasy\", \"adventure\"})\n",
    "inventory[\"9780307277671\"] = (\"To Kill a Mockingbird\", \"Harper Lee\", 18.99, {\"history\", \"non-fiction\"})\n",
    "inventory[\"9780140449136\"] = (\"The Republic\", \"Plato\", 10.99, {\"philosophy\", \"politics\"})\n",
    "inventory[\"9780743273565\"] = (\"The Great Gatsby\", \"F. Scott Fitzgerald\", 15.50, {\"classic\", \"fiction\"})\n",
    "inventory[\"9780262033848\"] = (\"Time to love\", \"Taufiq Rafat\", 60.99, {\"Science Fiction\", \"Computer Science\"})\n",
    "\n",
    "# Step 3: Display the inventory dictionary\n",
    "inventory\n"
   ]
  },
  {
   "cell_type": "code",
   "execution_count": 35,
   "metadata": {},
   "outputs": [
    {
     "name": "stdout",
     "output_type": "stream",
     "text": [
      "[('9780307277671', 'To Kill a Mockingbird')]\n"
     ]
    }
   ],
   "source": [
    "\"\"\"\n",
    "TASK 1 - PART 2: SEARCH BOOK BY AUTHOR\n",
    "\n",
    "1. Write a function called search_by_author(author).\n",
    "2. Loop through the inventory dictionary.\n",
    "3. Find all books written by the given author.\n",
    "4. Return a list of tuples containing:\n",
    "   - ISBN (string)\n",
    "   - Title (string)\n",
    "\"\"\"\n",
    "\n",
    "def search_by_author(author):\n",
    "    result = [(isbn, details[0]) for isbn, details in inventory.items() if details[1].lower() == author.lower()]\n",
    "    return result\n",
    "\n",
    "# Retrun list of tuple\n",
    "search_results = search_by_author(\"Harper Lee\")\n",
    "print(search_results)\n"
   ]
  },
  {
   "cell_type": "code",
   "execution_count": 36,
   "metadata": {},
   "outputs": [
    {
     "name": "stdout",
     "output_type": "stream",
     "text": [
      "Price updated for ISBN 9780439136365 to $30.99\n",
      "ISBN 1234567890 not found in inventory.\n"
     ]
    }
   ],
   "source": [
    "\"\"\"\n",
    "TASK 1 - PART 3: UPDATE BOOK PRICE\n",
    "\n",
    "1. Write a function called update_price(isbn, new_price).\n",
    "2. Check if the ISBN exists in the inventory.\n",
    "3. If the ISBN exists, update the book's price.\n",
    "4. Since tuples are immutable, create a new tuple with the updated price.\n",
    "5. Replace the old tuple in the dictionary.\n",
    "\"\"\"\n",
    "\n",
    "def update_price(isbn, new_price):\n",
    "    if isbn in inventory:\n",
    "        title, author, _, genres = inventory[isbn]  # Unpack existing values\n",
    "        inventory[isbn] = (title, author, new_price, genres)  # Create new tuple with updated price\n",
    "        return f\"Price updated for ISBN {isbn} to ${new_price:.2f}\"\n",
    "    else:\n",
    "        return f\"ISBN {isbn} not found in inventory.\"\n",
    "\n",
    "# Example Usage\n",
    "print(update_price(\"9780439136365\", 30.99)) \n",
    "print(update_price(\"1234567890\", 19.99))   \n"
   ]
  },
  {
   "cell_type": "code",
   "execution_count": 37,
   "metadata": {},
   "outputs": [],
   "source": [
    "\"\"\"\n",
    "TASK 1 - PART 4: STANDARDIZE BOOK GENRES\n",
    "\n",
    "1. Write a function called standardize_genres() that:\n",
    "• Iterates over every book in the inventory\n",
    "• For each book, converts all genre string to lowercase\n",
    "and trim any extra spaces\n",
    "• Update the genres set in the book’s tuple with the\n",
    "cleaned-up values \n",
    "\"\"\"\n",
    "\n",
    "def standardize_genres():\n",
    "    for isbn, details in inventory.items():\n",
    "        title, author, price, genres = details\n",
    "        cleaned_genres = {genre.strip().lower() for genre in genres}  # Clean each genre\n",
    "        inventory[isbn] = (title, author, price, cleaned_genres)  # Update tuple\n",
    "\n",
    "# Example Usage\n",
    "standardize_genres()\n"
   ]
  },
  {
   "cell_type": "code",
   "execution_count": 38,
   "metadata": {},
   "outputs": [
    {
     "name": "stdout",
     "output_type": "stream",
     "text": [
      "ISBN                 Title                               Author                    Price      Genres\n",
      "====================================================================================================\n",
      "9780439136365   The Hobbit                               J.R.R. Tolkien            $30.99      fantasy, adventure\n",
      "9780307277671   To Kill a Mockingbird                    Harper Lee                $18.99      history, non-fiction\n",
      "9780140449136   The Republic                             Plato                     $10.99      philosophy, politics\n",
      "9780743273565   The Great Gatsby                         F. Scott Fitzgerald       $15.50      fiction, classic\n",
      "9780262033848   Time to love                             Taufiq Rafat              $60.99      computer science, science fiction\n"
     ]
    }
   ],
   "source": [
    "\"\"\"\n",
    "TASK 1 - PART 5: DISPLAY INVENTORY\n",
    "\n",
    "1. Write function name display_inventory() that:\n",
    "• Loops through the inventory dictionary\n",
    "• Prints out the details of each book (ISBN, title, author,\n",
    "price, and genres) in a clean and readable format (such\n",
    "as a table). \n",
    "\"\"\"\n",
    "\n",
    "def display_inventory():\n",
    "    print(f\"{'ISBN':<20} {'Title':<35} {'Author':<25} {'Price':<10} {'Genres'}\")  #Manually Set table format\n",
    "    print(\"=\" * 100)\n",
    "\n",
    "    for isbn, (title, author, price, genres) in inventory.items():\n",
    "        genres_str = \", \".join(genres)  # Convert genres set to a string\n",
    "        print(f\"{isbn:<15} {title:<40} {author:<25} ${price:<10.2f} {genres_str}\")\n",
    "\n",
    "display_inventory()\n"
   ]
  },
  {
   "cell_type": "code",
   "execution_count": 39,
   "metadata": {},
   "outputs": [
    {
     "name": "stdout",
     "output_type": "stream",
     "text": [
      "['The Great Gatsby', 'The Hobbit', 'The Republic', 'Time to love', 'To Kill a Mockingbird']\n"
     ]
    }
   ],
   "source": [
    "\"\"\"\n",
    "TASK 1 - PART 6: LIST ALL BOOK TITLES\n",
    "\n",
    "1. Write a function called list_all_books() that:\n",
    "• Compiles a list of all book titles present in the\n",
    "inventory.\n",
    "• Sorts the list alphabetically.\n",
    "• Returns the sorted list. \n",
    "\"\"\"\n",
    "\n",
    "def list_all_books():\n",
    "    return sorted([details[0] for details in inventory.values()])  # Extract titles & sort\n",
    "\n",
    "# Example Usage\n",
    "print(list_all_books())  #List of book titles in alphabetical order\n"
   ]
  },
  {
   "cell_type": "code",
   "execution_count": null,
   "metadata": {},
   "outputs": [],
   "source": []
  }
 ],
 "metadata": {
  "kernelspec": {
   "display_name": "Python 3",
   "language": "python",
   "name": "python3"
  },
  "language_info": {
   "codemirror_mode": {
    "name": "ipython",
    "version": 3
   },
   "file_extension": ".py",
   "mimetype": "text/x-python",
   "name": "python",
   "nbconvert_exporter": "python",
   "pygments_lexer": "ipython3",
   "version": "3.11.0"
  }
 },
 "nbformat": 4,
 "nbformat_minor": 2
}
